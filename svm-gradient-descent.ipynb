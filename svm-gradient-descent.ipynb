{
 "cells": [
  {
   "cell_type": "code",
   "execution_count": 10,
   "id": "706d618c",
   "metadata": {},
   "outputs": [],
   "source": [
    "import numpy as np\n",
    "import matplotlib.pyplot as plt"
   ]
  },
  {
   "cell_type": "code",
   "execution_count": 11,
   "id": "d23728c8",
   "metadata": {},
   "outputs": [],
   "source": [
    "from sklearn import datasets\n",
    "from sklearn.pipeline import Pipeline\n",
    "from sklearn.preprocessing import StandardScaler"
   ]
  },
  {
   "cell_type": "code",
   "execution_count": 12,
   "id": "68e69e35",
   "metadata": {},
   "outputs": [],
   "source": [
    "iris = datasets.load_iris()"
   ]
  },
  {
   "cell_type": "code",
   "execution_count": 17,
   "id": "3015bdae",
   "metadata": {},
   "outputs": [],
   "source": [
    "X = iris[\"data\"][:, (2, 3)]\n",
    "y = iris.target == 0  # setosa"
   ]
  },
  {
   "cell_type": "code",
   "execution_count": 19,
   "id": "e0440926",
   "metadata": {},
   "outputs": [],
   "source": [
    "from sklearn.base import BaseEstimator"
   ]
  },
  {
   "cell_type": "code",
   "execution_count": 39,
   "id": "cb64e6ff",
   "metadata": {},
   "outputs": [],
   "source": [
    "class MyLinearSVC(BaseEstimator):\n",
    "    C: int\n",
    "    eta0: int\n",
    "    n_epochs: int\n",
    "    eta_d: int\n",
    "    random_state: None | int\n",
    "    Js: list[float]\n",
    "\n",
    "    def __init__(self, C=1, eta0=1, n_epochs=1_000, eta_d=10_000, random_state=None):\n",
    "        self.C = C\n",
    "        self.eta0 = eta0\n",
    "        self.n_epochs = n_epochs\n",
    "        self.eta_d = eta_d\n",
    "        self.random_state = random_state\n",
    "\n",
    "    def eta(self, epoch):\n",
    "        return self.eta0 / (epoch + self.eta_d)\n",
    "\n",
    "    def fit(self, X, y):\n",
    "        if self.random_state:\n",
    "            np.random.seed(self.random_state)\n",
    "\n",
    "        w = np.random.randn(X.shape[1], 1)\n",
    "        b = 0\n",
    "\n",
    "        t = np.array(y, dtype=np.float64).reshape(-1, 1) * 2 - 1\n",
    "\n",
    "        X_t = X * t\n",
    "\n",
    "        self.Js = []  # cost function log\n",
    "\n",
    "        for epoch in range(self.n_epochs):\n",
    "            support_vectors_idx = (X_t.dot(w) + t * b <= 1).ravel()\n",
    "            X_t_sv = X_t[support_vectors_idx]\n",
    "            t_sv = t[support_vectors_idx]\n",
    "\n",
    "            J: float = (1 / 2) * (w * w).sum() + self.C * ((1 - X_t_sv.dot(w) - b * t_sv).sum())\n",
    "            self.Js.append(J)\n",
    "\n",
    "            w_gradient_vector = w - self.C * X_t_sv.sum(axis=0).reshape(-1, 1)\n",
    "            b_derivative = -self.C + t_sv.sum()\n",
    "\n",
    "            eta = self.eta(epoch)\n",
    "            w -= eta * w_gradient_vector\n",
    "            b -= eta * b_derivative\n",
    "\n",
    "        self.intercept_ = np.array([b])\n",
    "        self.coef_ = np.array([w])\n",
    "\n",
    "        support_vectors_idx = (X_t.dot(w) + t * b <= 1).ravel()\n",
    "        self.support_vectors = X[support_vectors_idx]\n",
    "\n",
    "        return self\n",
    "\n",
    "    def decision_function(self, X):\n",
    "        return X.dot(self.coef_[0]) + self.intercept_[0]\n",
    "\n",
    "    def predict(self, X):\n",
    "        return self.decision_function(X) >= 0"
   ]
  }
 ],
 "metadata": {
  "kernelspec": {
   "display_name": "aprendizaje-automatico",
   "language": "python",
   "name": "aprendizaje-automatico"
  },
  "language_info": {
   "codemirror_mode": {
    "name": "ipython",
    "version": 3
   },
   "file_extension": ".py",
   "mimetype": "text/x-python",
   "name": "python",
   "nbconvert_exporter": "python",
   "pygments_lexer": "ipython3",
   "version": "3.11.0rc1"
  }
 },
 "nbformat": 4,
 "nbformat_minor": 5
}
